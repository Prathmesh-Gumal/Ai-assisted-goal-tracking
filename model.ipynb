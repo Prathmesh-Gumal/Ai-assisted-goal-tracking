{
 "cells": [
  {
   "cell_type": "code",
   "execution_count": 5,
   "id": "88c74cef",
   "metadata": {},
   "outputs": [
    {
     "name": "stdout",
     "output_type": "stream",
     "text": [
      "  Application          Window Title User Corrected Goal\n",
      "0  python.exe  Smart Screen Monitor            No Match\n",
      "1  python.exe               Started            No Match\n",
      "2  python.exe  Smart Screen Monitor            No Match\n",
      "3  python.exe   Activity Log Viewer            No Match\n",
      "4  python.exe  Smart Screen Monitor            No Match\n"
     ]
    }
   ],
   "source": [
    "import pandas as pd\n",
    "\n",
    "# Load the analyzed log file\n",
    "df = pd.read_csv(\"C:\\\\Users\\\\prath\\\\Desktop\\\\most_updated\\\\analyzed_screen_activity_log.csv\")\n",
    "\n",
    "# Select input columns and target column\n",
    "df_ml = df[[\"Application\", \"Window Title\", \"User Corrected Goal\"]]\n",
    "\n",
    "# Display the first few rows to verify\n",
    "print(df_ml.head())"
   ]
  },
  {
   "cell_type": "code",
   "execution_count": 15,
   "id": "4a2800bf",
   "metadata": {},
   "outputs": [
    {
     "data": {
      "text/html": [
       "<div>\n",
       "<style scoped>\n",
       "    .dataframe tbody tr th:only-of-type {\n",
       "        vertical-align: middle;\n",
       "    }\n",
       "\n",
       "    .dataframe tbody tr th {\n",
       "        vertical-align: top;\n",
       "    }\n",
       "\n",
       "    .dataframe thead th {\n",
       "        text-align: right;\n",
       "    }\n",
       "</style>\n",
       "<table border=\"1\" class=\"dataframe\">\n",
       "  <thead>\n",
       "    <tr style=\"text-align: right;\">\n",
       "      <th></th>\n",
       "      <th>Application</th>\n",
       "      <th>Window Title</th>\n",
       "      <th>User Corrected Goal</th>\n",
       "    </tr>\n",
       "  </thead>\n",
       "  <tbody>\n",
       "    <tr>\n",
       "      <th>150</th>\n",
       "      <td>Google Chrome</td>\n",
       "      <td>(18) Array Data Structure - Part1 | DSA Series...</td>\n",
       "      <td>Learn DSA</td>\n",
       "    </tr>\n",
       "    <tr>\n",
       "      <th>312</th>\n",
       "      <td>Google Chrome</td>\n",
       "      <td>Regression _Metrices(52).ipynb - Colab - Googl...</td>\n",
       "      <td>Learn ML</td>\n",
       "    </tr>\n",
       "    <tr>\n",
       "      <th>509</th>\n",
       "      <td>Google Chrome</td>\n",
       "      <td>(19) Gradient Descent From Scratch | End to En...</td>\n",
       "      <td>Learn ML</td>\n",
       "    </tr>\n",
       "    <tr>\n",
       "      <th>326</th>\n",
       "      <td>explorer.exe</td>\n",
       "      <td>Snap Assist</td>\n",
       "      <td>No Match</td>\n",
       "    </tr>\n",
       "    <tr>\n",
       "      <th>209</th>\n",
       "      <td>Google Chrome</td>\n",
       "      <td>New Tab - Google Chrome</td>\n",
       "      <td>No Match</td>\n",
       "    </tr>\n",
       "    <tr>\n",
       "      <th>179</th>\n",
       "      <td>Google Chrome</td>\n",
       "      <td>(18) Mini-Batch Gradient Descent - YouTube - G...</td>\n",
       "      <td>Learn ML</td>\n",
       "    </tr>\n",
       "    <tr>\n",
       "      <th>23</th>\n",
       "      <td>python.exe</td>\n",
       "      <td>Activity Log Viewer</td>\n",
       "      <td>No Match</td>\n",
       "    </tr>\n",
       "    <tr>\n",
       "      <th>490</th>\n",
       "      <td>Google Chrome</td>\n",
       "      <td>Gradient_descent(56).ipynb - Colab - Google Ch...</td>\n",
       "      <td>Learn ML</td>\n",
       "    </tr>\n",
       "    <tr>\n",
       "      <th>148</th>\n",
       "      <td>ShellExperienceHost.exe</td>\n",
       "      <td>New notification</td>\n",
       "      <td>No Match</td>\n",
       "    </tr>\n",
       "    <tr>\n",
       "      <th>352</th>\n",
       "      <td>Google Chrome</td>\n",
       "      <td>Multiple_Linear_regression.ipynb - Colab - Goo...</td>\n",
       "      <td>Learn ML</td>\n",
       "    </tr>\n",
       "  </tbody>\n",
       "</table>\n",
       "</div>"
      ],
      "text/plain": [
       "                 Application  \\\n",
       "150            Google Chrome   \n",
       "312            Google Chrome   \n",
       "509            Google Chrome   \n",
       "326             explorer.exe   \n",
       "209            Google Chrome   \n",
       "179            Google Chrome   \n",
       "23                python.exe   \n",
       "490            Google Chrome   \n",
       "148  ShellExperienceHost.exe   \n",
       "352            Google Chrome   \n",
       "\n",
       "                                          Window Title User Corrected Goal  \n",
       "150  (18) Array Data Structure - Part1 | DSA Series...           Learn DSA  \n",
       "312  Regression _Metrices(52).ipynb - Colab - Googl...            Learn ML  \n",
       "509  (19) Gradient Descent From Scratch | End to En...            Learn ML  \n",
       "326                                        Snap Assist            No Match  \n",
       "209                            New Tab - Google Chrome            No Match  \n",
       "179  (18) Mini-Batch Gradient Descent - YouTube - G...            Learn ML  \n",
       "23                                 Activity Log Viewer            No Match  \n",
       "490  Gradient_descent(56).ipynb - Colab - Google Ch...            Learn ML  \n",
       "148                                   New notification            No Match  \n",
       "352  Multiple_Linear_regression.ipynb - Colab - Goo...            Learn ML  "
      ]
     },
     "execution_count": 15,
     "metadata": {},
     "output_type": "execute_result"
    }
   ],
   "source": [
    "df_ml.sample(10)"
   ]
  },
  {
   "cell_type": "code",
   "execution_count": 19,
   "id": "b7f8237a",
   "metadata": {},
   "outputs": [],
   "source": [
    "import pandas as pd\n",
    "from sklearn.model_selection import train_test_split\n",
    "from sklearn.feature_extraction.text import TfidfVectorizer\n",
    "from sklearn.preprocessing import LabelEncoder\n",
    "from xgboost import XGBClassifier\n",
    "from sklearn.metrics import accuracy_score, classification_report\n"
   ]
  },
  {
   "cell_type": "code",
   "execution_count": null,
   "id": "4c03e8c9",
   "metadata": {},
   "outputs": [],
   "source": [
    "f"
   ]
  }
 ],
 "metadata": {
  "kernelspec": {
   "display_name": "Python 3",
   "language": "python",
   "name": "python3"
  },
  "language_info": {
   "codemirror_mode": {
    "name": "ipython",
    "version": 3
   },
   "file_extension": ".py",
   "mimetype": "text/x-python",
   "name": "python",
   "nbconvert_exporter": "python",
   "pygments_lexer": "ipython3",
   "version": "3.13.2"
  }
 },
 "nbformat": 4,
 "nbformat_minor": 5
}
